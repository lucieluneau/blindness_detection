{
 "cells": [
  {
   "cell_type": "code",
   "execution_count": null,
   "metadata": {
    "colab": {},
    "colab_type": "code",
    "id": "VldEBI_pF4t7"
   },
   "outputs": [],
   "source": [
    "def load_flowers_data():\n",
    "    data_path = '/content/drive/Data_Rethinopathy/train_images'\n",
    "    \n",
    "    classes = {'daisy':0, 'dandelion':1, 'rose':2}\n",
    "    imgs = []\n",
    "    labels = []\n",
    "\n",
    "    for (cl, i) in classes.items():\n",
    "        images_path = [elt for elt in os.listdir(os.path.join(data_path, cl)) if elt.find('.jpg')>0]\n",
    "        for img in tqdm(images_path[:300]):\n",
    "            path = os.path.join(data_path, cl, img)\n",
    "            if os.path.exists(path):\n",
    "                image = Image.open(path)\n",
    "                image = image.resize((256, 256))\n",
    "                imgs.append(np.array(image))\n",
    "                labels.append(i)"
   ]
  },
  {
   "cell_type": "code",
   "execution_count": null,
   "metadata": {
    "colab": {},
    "colab_type": "code",
    "id": "iIWBv8-qnwPo"
   },
   "outputs": [],
   "source": [
    "import tensorflow as tf\n",
    "\n",
    "data_dir = '/content/drive/My Drive/Data_Retinopathy/raw_data/train_images'\n",
    "batch_size = '100'\n",
    "\n",
    "train_ds = tf.keras.preprocessing.image_dataset_from_directory(\n",
    "  data_dir,\n",
    "  validation_split=0.2,\n",
    "  subset=\"training\",\n",
    "  seed=123,\n",
    "  # image_size=(img_height, img_width),\n",
    "  batch_size=batch_size)\n",
    "\n",
    "train_ds\n"
   ]
  },
  {
   "cell_type": "markdown",
   "metadata": {
    "colab_type": "text",
    "id": "mgCNV9Dx8CkB"
   },
   "source": [
    "# **Loading the data**"
   ]
  },
  {
   "cell_type": "code",
   "execution_count": 3,
   "metadata": {
    "colab": {},
    "colab_type": "code",
    "executionInfo": {
     "elapsed": 1411,
     "status": "ok",
     "timestamp": 1599583672853,
     "user": {
      "displayName": "Alexandre Henrion",
      "photoUrl": "https://lh3.googleusercontent.com/a-/AOh14GiDjUZf_CZ2oR3e_h01vl8yYHqjy8t77tILUOsf=s64",
      "userId": "11837540766968305785"
     },
     "user_tz": -120
    },
    "id": "u91OKOcyICeT"
   },
   "outputs": [],
   "source": [
    "import pandas as pd\n",
    "import numpy as np\n",
    "import matplotlib.pyplot as plt\n",
    "import cv2"
   ]
  },
  {
   "cell_type": "code",
   "execution_count": 7,
   "metadata": {
    "colab": {
     "base_uri": "https://localhost:8080/",
     "height": 122
    },
    "colab_type": "code",
    "executionInfo": {
     "elapsed": 11222,
     "status": "ok",
     "timestamp": 1599583725859,
     "user": {
      "displayName": "Alexandre Henrion",
      "photoUrl": "https://lh3.googleusercontent.com/a-/AOh14GiDjUZf_CZ2oR3e_h01vl8yYHqjy8t77tILUOsf=s64",
      "userId": "11837540766968305785"
     },
     "user_tz": -120
    },
    "id": "-3Yd3diz8KyY",
    "outputId": "2ea7bb30-cedc-4b15-d79b-24762d189238"
   },
   "outputs": [
    {
     "name": "stdout",
     "output_type": "stream",
     "text": [
      "Go to this URL in a browser: https://accounts.google.com/o/oauth2/auth?client_id=947318989803-6bn6qk8qdgf4n4g3pfee6491hc0brc4i.apps.googleusercontent.com&redirect_uri=urn%3aietf%3awg%3aoauth%3a2.0%3aoob&scope=email%20https%3a%2f%2fwww.googleapis.com%2fauth%2fdocs.test%20https%3a%2f%2fwww.googleapis.com%2fauth%2fdrive%20https%3a%2f%2fwww.googleapis.com%2fauth%2fdrive.photos.readonly%20https%3a%2f%2fwww.googleapis.com%2fauth%2fpeopleapi.readonly&response_type=code\n",
      "\n",
      "Enter your authorization code:\n",
      "4/3wHhXeh-2_Lgf-00BJynHYSlCcEP2n1x7LiF2MY9v0UrmyXnOX8G71o\n",
      "Mounted at /content/drive/\n"
     ]
    }
   ],
   "source": [
    "from google.colab import drive\n",
    "drive.mount('/content/drive/', force_remount=True)"
   ]
  },
  {
   "cell_type": "code",
   "execution_count": 8,
   "metadata": {
    "colab": {},
    "colab_type": "code",
    "executionInfo": {
     "elapsed": 1705,
     "status": "ok",
     "timestamp": 1599583733138,
     "user": {
      "displayName": "Alexandre Henrion",
      "photoUrl": "https://lh3.googleusercontent.com/a-/AOh14GiDjUZf_CZ2oR3e_h01vl8yYHqjy8t77tILUOsf=s64",
      "userId": "11837540766968305785"
     },
     "user_tz": -120
    },
    "id": "C8difmWv9Myr"
   },
   "outputs": [],
   "source": [
    "from tqdm import tqdm\n",
    "import os\n",
    "from tensorflow.keras.utils import to_categorical\n",
    "from PIL import Image"
   ]
  },
  {
   "cell_type": "code",
   "execution_count": 9,
   "metadata": {
    "colab": {},
    "colab_type": "code",
    "executionInfo": {
     "elapsed": 674,
     "status": "ok",
     "timestamp": 1599583734786,
     "user": {
      "displayName": "Alexandre Henrion",
      "photoUrl": "https://lh3.googleusercontent.com/a-/AOh14GiDjUZf_CZ2oR3e_h01vl8yYHqjy8t77tILUOsf=s64",
      "userId": "11837540766968305785"
     },
     "user_tz": -120
    },
    "id": "iQzci7yaa_0Z"
   },
   "outputs": [],
   "source": [
    "# image = Image.open('/content/drive/My Drive/Data_Retinopathy/raw_data/train_images/869bbd3170cc.jpg')"
   ]
  },
  {
   "cell_type": "code",
   "execution_count": 10,
   "metadata": {
    "colab": {},
    "colab_type": "code",
    "executionInfo": {
     "elapsed": 1268,
     "status": "ok",
     "timestamp": 1599583735997,
     "user": {
      "displayName": "Alexandre Henrion",
      "photoUrl": "https://lh3.googleusercontent.com/a-/AOh14GiDjUZf_CZ2oR3e_h01vl8yYHqjy8t77tILUOsf=s64",
      "userId": "11837540766968305785"
     },
     "user_tz": -120
    },
    "id": "9ePS3W6rHqmk"
   },
   "outputs": [],
   "source": [
    "df_train = pd.read_csv('/content/drive/My Drive/Data_Retinopathy/raw_data/train.csv')"
   ]
  },
  {
   "cell_type": "code",
   "execution_count": 11,
   "metadata": {
    "colab": {},
    "colab_type": "code",
    "executionInfo": {
     "elapsed": 1139,
     "status": "ok",
     "timestamp": 1599583736370,
     "user": {
      "displayName": "Alexandre Henrion",
      "photoUrl": "https://lh3.googleusercontent.com/a-/AOh14GiDjUZf_CZ2oR3e_h01vl8yYHqjy8t77tILUOsf=s64",
      "userId": "11837540766968305785"
     },
     "user_tz": -120
    },
    "id": "PbH0Yw_lKGUR"
   },
   "outputs": [],
   "source": [
    "df_test = pd.read_csv('/content/drive/My Drive/Data_Retinopathy/raw_data/test.csv')"
   ]
  },
  {
   "cell_type": "code",
   "execution_count": 12,
   "metadata": {
    "colab": {},
    "colab_type": "code",
    "executionInfo": {
     "elapsed": 612,
     "status": "ok",
     "timestamp": 1599583740211,
     "user": {
      "displayName": "Alexandre Henrion",
      "photoUrl": "https://lh3.googleusercontent.com/a-/AOh14GiDjUZf_CZ2oR3e_h01vl8yYHqjy8t77tILUOsf=s64",
      "userId": "11837540766968305785"
     },
     "user_tz": -120
    },
    "id": "A8kCzrgyKr2d"
   },
   "outputs": [],
   "source": [
    "# os.listdir('/content/drive/My Drive/Data_Retinopathy/raw_data/train_images')"
   ]
  },
  {
   "cell_type": "code",
   "execution_count": null,
   "metadata": {
    "colab": {},
    "colab_type": "code",
    "executionInfo": {
     "elapsed": 679,
     "status": "aborted",
     "timestamp": 1599575390886,
     "user": {
      "displayName": "Alexandre Henrion",
      "photoUrl": "https://lh3.googleusercontent.com/a-/AOh14GiDjUZf_CZ2oR3e_h01vl8yYHqjy8t77tILUOsf=s64",
      "userId": "11837540766968305785"
     },
     "user_tz": -120
    },
    "id": "ntEGh58E2497"
   },
   "outputs": [],
   "source": [
    "%%time\n",
    "\n",
    "from tensorflow.keras.preprocessing.image import load_img\n",
    "from tensorflow.keras.preprocessing.image import img_to_array\n",
    "\n",
    "# image = tf.keras.preprocessing.image.load_img(image_path)\n",
    "# input_arr = keras.preprocessing.image.img_to_array(image)\n",
    "\n",
    "imgs_krs = []\n",
    "\n",
    "pace = 100 \n",
    "nb_iter = ( len(df_train) // pace ) + 1 \n",
    "\n",
    "start_index = 0 \n",
    "stop_index = pace \n",
    "\n",
    "for i in tqdm(range(0,nb_iter)):\n",
    "  for image_path in df_train['id_code'][start_index:stop_index]:\n",
    "    path = f'/content/drive/My Drive/Data_Retinopathy/raw_data/train_images/{image_path}'\n",
    "    if os.path.exists(path): \n",
    "      image = load_img(path)\n",
    "      imgs_krs.append(img_to_array(image))\n",
    "  start_index = start_index + pace \n",
    "  stop_index = stop_index + pace\n",
    "  print('len : ' + str(len(imgs_krs)) + ' , next_start :' + str(start_index) + ' , next stop : ' + str(stop_index))\n"
   ]
  },
  {
   "cell_type": "code",
   "execution_count": null,
   "metadata": {
    "colab": {
     "base_uri": "https://localhost:8080/",
     "height": 476
    },
    "colab_type": "code",
    "id": "WWJxsxL-IkbS",
    "outputId": "128de0cf-2505-4b7d-9c8b-a4ee0b585253"
   },
   "outputs": [
    {
     "name": "stderr",
     "output_type": "stream",
     "text": [
      "  3%|▎         | 1/37 [00:40<24:30, 40.83s/it]"
     ]
    },
    {
     "name": "stdout",
     "output_type": "stream",
     "text": [
      "len : 100 , next_start :100 , next stop : 200\n"
     ]
    },
    {
     "name": "stderr",
     "output_type": "stream",
     "text": [
      "\r",
      "  5%|▌         | 2/37 [01:26<24:42, 42.36s/it]"
     ]
    },
    {
     "name": "stdout",
     "output_type": "stream",
     "text": [
      "len : 200 , next_start :200 , next stop : 300\n"
     ]
    },
    {
     "name": "stderr",
     "output_type": "stream",
     "text": [
      "\r",
      "  8%|▊         | 3/37 [02:04<23:17, 41.11s/it]"
     ]
    },
    {
     "name": "stdout",
     "output_type": "stream",
     "text": [
      "len : 300 , next_start :300 , next stop : 400\n"
     ]
    },
    {
     "name": "stderr",
     "output_type": "stream",
     "text": [
      "\r",
      " 11%|█         | 4/37 [02:42<22:00, 40.01s/it]"
     ]
    },
    {
     "name": "stdout",
     "output_type": "stream",
     "text": [
      "len : 400 , next_start :400 , next stop : 500\n"
     ]
    },
    {
     "name": "stderr",
     "output_type": "stream",
     "text": [
      "\r",
      " 14%|█▎        | 5/37 [03:20<21:02, 39.44s/it]"
     ]
    },
    {
     "name": "stdout",
     "output_type": "stream",
     "text": [
      "len : 500 , next_start :500 , next stop : 600\n"
     ]
    },
    {
     "name": "stderr",
     "output_type": "stream",
     "text": [
      "\r",
      " 16%|█▌        | 6/37 [03:57<19:57, 38.63s/it]"
     ]
    },
    {
     "name": "stdout",
     "output_type": "stream",
     "text": [
      "len : 600 , next_start :600 , next stop : 700\n"
     ]
    },
    {
     "name": "stderr",
     "output_type": "stream",
     "text": [
      "\r",
      " 19%|█▉        | 7/37 [04:34<19:08, 38.27s/it]"
     ]
    },
    {
     "name": "stdout",
     "output_type": "stream",
     "text": [
      "len : 700 , next_start :700 , next stop : 800\n"
     ]
    },
    {
     "name": "stderr",
     "output_type": "stream",
     "text": [
      "\r",
      " 22%|██▏       | 8/37 [05:12<18:23, 38.06s/it]"
     ]
    },
    {
     "name": "stdout",
     "output_type": "stream",
     "text": [
      "len : 800 , next_start :800 , next stop : 900\n"
     ]
    },
    {
     "name": "stderr",
     "output_type": "stream",
     "text": [
      "\r",
      " 24%|██▍       | 9/37 [05:49<17:38, 37.82s/it]"
     ]
    },
    {
     "name": "stdout",
     "output_type": "stream",
     "text": [
      "len : 900 , next_start :900 , next stop : 1000\n"
     ]
    },
    {
     "name": "stderr",
     "output_type": "stream",
     "text": [
      "\r",
      " 27%|██▋       | 10/37 [06:26<16:51, 37.48s/it]"
     ]
    },
    {
     "name": "stdout",
     "output_type": "stream",
     "text": [
      "len : 1000 , next_start :1000 , next stop : 1100\n"
     ]
    },
    {
     "name": "stderr",
     "output_type": "stream",
     "text": [
      "\r",
      " 30%|██▉       | 11/37 [07:01<16:00, 36.93s/it]"
     ]
    },
    {
     "name": "stdout",
     "output_type": "stream",
     "text": [
      "len : 1100 , next_start :1100 , next stop : 1200\n"
     ]
    },
    {
     "name": "stderr",
     "output_type": "stream",
     "text": [
      "\r",
      " 32%|███▏      | 12/37 [07:37<15:13, 36.56s/it]"
     ]
    },
    {
     "name": "stdout",
     "output_type": "stream",
     "text": [
      "len : 1200 , next_start :1200 , next stop : 1300\n"
     ]
    },
    {
     "name": "stderr",
     "output_type": "stream",
     "text": [
      "\r",
      " 35%|███▌      | 13/37 [08:12<14:26, 36.09s/it]"
     ]
    },
    {
     "name": "stdout",
     "output_type": "stream",
     "text": [
      "len : 1300 , next_start :1300 , next stop : 1400\n"
     ]
    },
    {
     "name": "stderr",
     "output_type": "stream",
     "text": [
      "\r",
      " 38%|███▊      | 14/37 [08:47<13:41, 35.73s/it]"
     ]
    },
    {
     "name": "stdout",
     "output_type": "stream",
     "text": [
      "len : 1400 , next_start :1400 , next stop : 1500\n"
     ]
    },
    {
     "name": "stderr",
     "output_type": "stream",
     "text": [
      "\r",
      " 41%|████      | 15/37 [09:22<12:58, 35.40s/it]"
     ]
    },
    {
     "name": "stdout",
     "output_type": "stream",
     "text": [
      "len : 1500 , next_start :1500 , next stop : 1600\n"
     ]
    },
    {
     "name": "stderr",
     "output_type": "stream",
     "text": [
      "\r",
      " 43%|████▎     | 16/37 [09:59<12:33, 35.90s/it]"
     ]
    },
    {
     "name": "stdout",
     "output_type": "stream",
     "text": [
      "len : 1600 , next_start :1600 , next stop : 1700\n"
     ]
    },
    {
     "name": "stderr",
     "output_type": "stream",
     "text": [
      "\r",
      " 46%|████▌     | 17/37 [10:34<11:53, 35.67s/it]"
     ]
    },
    {
     "name": "stdout",
     "output_type": "stream",
     "text": [
      "len : 1700 , next_start :1700 , next stop : 1800\n"
     ]
    },
    {
     "name": "stderr",
     "output_type": "stream",
     "text": [
      "\r",
      " 49%|████▊     | 18/37 [11:08<11:10, 35.31s/it]"
     ]
    },
    {
     "name": "stdout",
     "output_type": "stream",
     "text": [
      "len : 1800 , next_start :1800 , next stop : 1900\n"
     ]
    },
    {
     "name": "stderr",
     "output_type": "stream",
     "text": [
      "\r",
      " 51%|█████▏    | 19/37 [11:43<10:31, 35.07s/it]"
     ]
    },
    {
     "name": "stdout",
     "output_type": "stream",
     "text": [
      "len : 1900 , next_start :1900 , next stop : 2000\n"
     ]
    },
    {
     "name": "stderr",
     "output_type": "stream",
     "text": [
      "\r",
      " 54%|█████▍    | 20/37 [12:18<09:59, 35.26s/it]"
     ]
    },
    {
     "name": "stdout",
     "output_type": "stream",
     "text": [
      "len : 2000 , next_start :2000 , next stop : 2100\n"
     ]
    },
    {
     "name": "stderr",
     "output_type": "stream",
     "text": [
      "\r",
      " 57%|█████▋    | 21/37 [12:56<09:37, 36.10s/it]"
     ]
    },
    {
     "name": "stdout",
     "output_type": "stream",
     "text": [
      "len : 2100 , next_start :2100 , next stop : 2200\n"
     ]
    },
    {
     "name": "stderr",
     "output_type": "stream",
     "text": [
      "\r",
      " 59%|█████▉    | 22/37 [13:33<09:01, 36.11s/it]"
     ]
    },
    {
     "name": "stdout",
     "output_type": "stream",
     "text": [
      "len : 2200 , next_start :2200 , next stop : 2300\n"
     ]
    },
    {
     "name": "stderr",
     "output_type": "stream",
     "text": [
      "\r",
      " 62%|██████▏   | 23/37 [14:08<08:22, 35.88s/it]"
     ]
    },
    {
     "name": "stdout",
     "output_type": "stream",
     "text": [
      "len : 2300 , next_start :2300 , next stop : 2400\n"
     ]
    },
    {
     "name": "stderr",
     "output_type": "stream",
     "text": [
      "\r",
      " 65%|██████▍   | 24/37 [14:44<07:45, 35.79s/it]"
     ]
    },
    {
     "name": "stdout",
     "output_type": "stream",
     "text": [
      "len : 2400 , next_start :2400 , next stop : 2500\n"
     ]
    },
    {
     "name": "stderr",
     "output_type": "stream",
     "text": [
      "\r",
      " 68%|██████▊   | 25/37 [15:18<07:05, 35.49s/it]"
     ]
    },
    {
     "name": "stdout",
     "output_type": "stream",
     "text": [
      "len : 2500 , next_start :2500 , next stop : 2600\n"
     ]
    },
    {
     "name": "stderr",
     "output_type": "stream",
     "text": [
      "\r",
      " 70%|███████   | 26/37 [15:53<06:27, 35.20s/it]"
     ]
    },
    {
     "name": "stdout",
     "output_type": "stream",
     "text": [
      "len : 2600 , next_start :2600 , next stop : 2700\n"
     ]
    },
    {
     "name": "stderr",
     "output_type": "stream",
     "text": [
      "\r",
      " 73%|███████▎  | 27/37 [16:29<05:54, 35.40s/it]"
     ]
    },
    {
     "name": "stdout",
     "output_type": "stream",
     "text": [
      "len : 2700 , next_start :2700 , next stop : 2800\n"
     ]
    }
   ],
   "source": [
    "path = '/content/drive/My Drive/Data_Retinopathy/raw_data/train_images/'\n",
    "pace = 100 \n",
    "debug = True \n",
    "\n",
    "def fast_load_images(df_train, path, pace):\n",
    "  imgs = []\n",
    "  nb_iter = ( len(df_train) // pace ) + 1 \n",
    "  \n",
    "  start_index = 0 \n",
    "  stop_index = pace \n",
    "  for i in tqdm(range(0,nb_iter)):\n",
    "    for image_name in df_train['id_code'][start_index:stop_index]:\n",
    "      image_path = path + image_name\n",
    "      if os.path.exists(image_path): \n",
    "        image = Image.open(image_path)\n",
    "        imgs.append(np.array(image))\n",
    "    \n",
    "    # Indentations \n",
    "    start_index = start_index + pace \n",
    "    stop_index = stop_index + pace\n",
    "    \n",
    "    if debug:\n",
    "      print('len : ' + str(len(imgs)) + ' , next_start :' + str(start_index) + ' , next stop : ' + str(stop_index))\n",
    "\n",
    "    X = np.array(imgs)\n",
    "    return X \n",
    "\n",
    "fast_load_images(df_train, path, pace)"
   ]
  },
  {
   "cell_type": "code",
   "execution_count": null,
   "metadata": {
    "colab": {},
    "colab_type": "code",
    "id": "9ezByxMHpU8v"
   },
   "outputs": [],
   "source": [
    "path = '/content/drive/My Drive/Data_Retinopathy/raw_data/train_images/'\n",
    "pace = 100 \n",
    "debug = True \n",
    "\n",
    "imgs = []\n",
    "nb_iter = ( len(df_train) // pace ) + 1 \n",
    "\n",
    "start_index = 0 \n",
    "stop_index = pace \n",
    "for i in tqdm(range(0,nb_iter)):\n",
    "  for image_name in df_train['id_code'][start_index:stop_index]:\n",
    "    image_path = path + image_name\n",
    "    if os.path.exists(image_path): \n",
    "      image = Image.open(image_path)\n",
    "      imgs.append(np.array(image))\n",
    "  \n",
    "  start_index = start_index + pace \n",
    "  stop_index = stop_index + pace\n",
    "  \n",
    "  if debug:\n",
    "    print('len : ' + str(len(imgs)) + ' , next_start :' + str(start_index) + ' , next stop : ' + str(stop_index))\n",
    "\n",
    "  X = np.array(imgs)\n"
   ]
  },
  {
   "cell_type": "code",
   "execution_count": 23,
   "metadata": {
    "colab": {
     "base_uri": "https://localhost:8080/",
     "height": 51
    },
    "colab_type": "code",
    "executionInfo": {
     "elapsed": 3068,
     "status": "ok",
     "timestamp": 1599576069620,
     "user": {
      "displayName": "Alexandre Henrion",
      "photoUrl": "https://lh3.googleusercontent.com/a-/AOh14GiDjUZf_CZ2oR3e_h01vl8yYHqjy8t77tILUOsf=s64",
      "userId": "11837540766968305785"
     },
     "user_tz": -120
    },
    "id": "dKiUQ535Xltl",
    "outputId": "1c6c7a4f-d6b3-4705-eb60-38ff2123a798"
   },
   "outputs": [
    {
     "name": "stdout",
     "output_type": "stream",
     "text": [
      "CPU times: user 341 ms, sys: 1.94 s, total: 2.28 s\n",
      "Wall time: 2.3 s\n"
     ]
    }
   ],
   "source": [
    "%%time\n",
    "X = np.array(imgs)"
   ]
  },
  {
   "cell_type": "code",
   "execution_count": 14,
   "metadata": {
    "colab": {
     "base_uri": "https://localhost:8080/",
     "height": 34
    },
    "colab_type": "code",
    "executionInfo": {
     "elapsed": 1170,
     "status": "ok",
     "timestamp": 1599575764726,
     "user": {
      "displayName": "Alexandre Henrion",
      "photoUrl": "https://lh3.googleusercontent.com/a-/AOh14GiDjUZf_CZ2oR3e_h01vl8yYHqjy8t77tILUOsf=s64",
      "userId": "11837540766968305785"
     },
     "user_tz": -120
    },
    "id": "sG0cP1S0jaUG",
    "outputId": "ad1398c0-4d6d-40fc-983b-ad9c39b42ee8"
   },
   "outputs": [
    {
     "data": {
      "text/plain": [
       "(3662, 480, 480, 3)"
      ]
     },
     "execution_count": 14,
     "metadata": {
      "tags": []
     },
     "output_type": "execute_result"
    }
   ],
   "source": [
    "X.shape"
   ]
  },
  {
   "cell_type": "markdown",
   "metadata": {
    "colab_type": "text",
    "id": "5QeeizPNDOY1"
   },
   "source": []
  },
  {
   "cell_type": "code",
   "execution_count": null,
   "metadata": {
    "colab": {},
    "colab_type": "code",
    "id": "zlfZHORKg6zc"
   },
   "outputs": [],
   "source": [
    "# Save X \n",
    "# np.save('/content/drive/My Drive/Data_Retinopathy/X.npy',X) "
   ]
  },
  {
   "cell_type": "code",
   "execution_count": 15,
   "metadata": {
    "colab": {
     "base_uri": "https://localhost:8080/",
     "height": 221
    },
    "colab_type": "code",
    "executionInfo": {
     "elapsed": 772,
     "status": "ok",
     "timestamp": 1599575777264,
     "user": {
      "displayName": "Alexandre Henrion",
      "photoUrl": "https://lh3.googleusercontent.com/a-/AOh14GiDjUZf_CZ2oR3e_h01vl8yYHqjy8t77tILUOsf=s64",
      "userId": "11837540766968305785"
     },
     "user_tz": -120
    },
    "id": "grFM1axkTVxO",
    "outputId": "1151b94c-32b0-45b2-db69-83ba3073cad1"
   },
   "outputs": [
    {
     "data": {
      "text/plain": [
       "0       2\n",
       "1       4\n",
       "2       1\n",
       "3       0\n",
       "4       0\n",
       "       ..\n",
       "3657    2\n",
       "3658    0\n",
       "3659    2\n",
       "3660    0\n",
       "3661    2\n",
       "Name: diagnosis, Length: 3662, dtype: int64"
      ]
     },
     "execution_count": 15,
     "metadata": {
      "tags": []
     },
     "output_type": "execute_result"
    }
   ],
   "source": [
    "targets = df_train['diagnosis'] \n",
    "targets"
   ]
  },
  {
   "cell_type": "code",
   "execution_count": 16,
   "metadata": {
    "colab": {
     "base_uri": "https://localhost:8080/",
     "height": 119
    },
    "colab_type": "code",
    "executionInfo": {
     "elapsed": 782,
     "status": "ok",
     "timestamp": 1599575782199,
     "user": {
      "displayName": "Alexandre Henrion",
      "photoUrl": "https://lh3.googleusercontent.com/a-/AOh14GiDjUZf_CZ2oR3e_h01vl8yYHqjy8t77tILUOsf=s64",
      "userId": "11837540766968305785"
     },
     "user_tz": -120
    },
    "id": "romUIL5-Yeru",
    "outputId": "c2e75015-6fd4-4cc1-ceb5-29ec75d251a9"
   },
   "outputs": [
    {
     "data": {
      "text/plain": [
       "0    1805\n",
       "2     999\n",
       "1     370\n",
       "4     295\n",
       "3     193\n",
       "Name: diagnosis, dtype: int64"
      ]
     },
     "execution_count": 16,
     "metadata": {
      "tags": []
     },
     "output_type": "execute_result"
    }
   ],
   "source": [
    "pd.value_counts(targets)"
   ]
  },
  {
   "cell_type": "code",
   "execution_count": 17,
   "metadata": {
    "colab": {
     "base_uri": "https://localhost:8080/",
     "height": 136
    },
    "colab_type": "code",
    "executionInfo": {
     "elapsed": 770,
     "status": "ok",
     "timestamp": 1599575785743,
     "user": {
      "displayName": "Alexandre Henrion",
      "photoUrl": "https://lh3.googleusercontent.com/a-/AOh14GiDjUZf_CZ2oR3e_h01vl8yYHqjy8t77tILUOsf=s64",
      "userId": "11837540766968305785"
     },
     "user_tz": -120
    },
    "id": "Xu0-sBFXcZEe",
    "outputId": "547fe38e-52cd-4766-edac-a01a2313273d"
   },
   "outputs": [
    {
     "data": {
      "text/plain": [
       "array([[0., 0., 1., 0., 0.],\n",
       "       [0., 0., 0., 0., 1.],\n",
       "       [0., 1., 0., 0., 0.],\n",
       "       ...,\n",
       "       [0., 0., 1., 0., 0.],\n",
       "       [1., 0., 0., 0., 0.],\n",
       "       [0., 0., 1., 0., 0.]], dtype=float32)"
      ]
     },
     "execution_count": 17,
     "metadata": {
      "tags": []
     },
     "output_type": "execute_result"
    }
   ],
   "source": [
    "y = to_categorical(targets, num_classes=5)\n",
    "y"
   ]
  },
  {
   "cell_type": "code",
   "execution_count": 18,
   "metadata": {
    "colab": {
     "base_uri": "https://localhost:8080/",
     "height": 102
    },
    "colab_type": "code",
    "executionInfo": {
     "elapsed": 1082,
     "status": "ok",
     "timestamp": 1599575789356,
     "user": {
      "displayName": "Alexandre Henrion",
      "photoUrl": "https://lh3.googleusercontent.com/a-/AOh14GiDjUZf_CZ2oR3e_h01vl8yYHqjy8t77tILUOsf=s64",
      "userId": "11837540766968305785"
     },
     "user_tz": -120
    },
    "id": "y7iz43vSTyt3",
    "outputId": "56be007e-3061-49b1-fc0c-abb04f9e497c"
   },
   "outputs": [
    {
     "data": {
      "text/plain": [
       "{0: 'No Diabetic Retinopathy',\n",
       " 1: 'Mild Diabetic Retinopathy',\n",
       " 2: 'Moderate Diabetic Retinopathy',\n",
       " 3: 'Sever Diabetic Retinopathy',\n",
       " 4: 'Proliferative Diabetic Retinopathy'}"
      ]
     },
     "execution_count": 18,
     "metadata": {
      "tags": []
     },
     "output_type": "execute_result"
    }
   ],
   "source": [
    "targets_mapping = { \n",
    "    0 : \"No Diabetic Retinopathy\",\n",
    "    1 : \"Mild Diabetic Retinopathy\",\n",
    "    2 : \"Moderate Diabetic Retinopathy\",\n",
    "    3 : \"Sever Diabetic Retinopathy\",\n",
    "    4 : \"Proliferative Diabetic Retinopathy\"\n",
    "}\n",
    "\n",
    "targets_mapping"
   ]
  },
  {
   "cell_type": "code",
   "execution_count": null,
   "metadata": {
    "colab": {},
    "colab_type": "code",
    "id": "T-KI6VtXZwCI"
   },
   "outputs": [],
   "source": [
    "# Shuffling \n",
    "\n",
    "p = np.random.permutation(len(X))\n",
    "X, y = X[p], y[p]"
   ]
  },
  {
   "cell_type": "markdown",
   "metadata": {
    "colab_type": "text",
    "id": "QK88nhSq5vAX"
   },
   "source": [
    "# **Split**"
   ]
  },
  {
   "cell_type": "markdown",
   "metadata": {
    "colab_type": "text",
    "id": "xRX6rQ5A6bxq"
   },
   "source": [
    "In order to be able to assess the performance of the transfer learning model with VGG-16, we need to split the train data, as the test data given in the kaggle competition doesn't give. We'll need to retrain the model on the whole train dataset once we reach \"satisfying\" performances."
   ]
  },
  {
   "cell_type": "code",
   "execution_count": 24,
   "metadata": {
    "colab": {
     "base_uri": "https://localhost:8080/",
     "height": 85
    },
    "colab_type": "code",
    "executionInfo": {
     "elapsed": 1576,
     "status": "ok",
     "timestamp": 1599576103126,
     "user": {
      "displayName": "Alexandre Henrion",
      "photoUrl": "https://lh3.googleusercontent.com/a-/AOh14GiDjUZf_CZ2oR3e_h01vl8yYHqjy8t77tILUOsf=s64",
      "userId": "11837540766968305785"
     },
     "user_tz": -120
    },
    "id": "_xwwptT1-Xje",
    "outputId": "9c466558-edcc-4146-971c-ead4c41bd199"
   },
   "outputs": [
    {
     "name": "stdout",
     "output_type": "stream",
     "text": [
      "(2563, 480, 480, 3)\n",
      "(2563, 5)\n",
      "(1099, 480, 480, 3)\n",
      "(1099, 5)\n"
     ]
    }
   ],
   "source": [
    "from sklearn.model_selection import train_test_split\n",
    "\n",
    "X_train, X_valid, y_train, y_valid = train_test_split(X, y, test_size=0.30, stratify=y, random_state=8)\n",
    "\n",
    "print(X_train.shape)\n",
    "print(y_train.shape)\n",
    "print(X_valid.shape)\n",
    "print(y_valid.shape)"
   ]
  },
  {
   "cell_type": "markdown",
   "metadata": {
    "colab_type": "text",
    "id": "MqVFhuDWDTSv"
   },
   "source": [
    "# **Model** (Nhat)"
   ]
  },
  {
   "cell_type": "code",
   "execution_count": 28,
   "metadata": {
    "colab": {},
    "colab_type": "code",
    "executionInfo": {
     "elapsed": 1228,
     "status": "ok",
     "timestamp": 1599576382101,
     "user": {
      "displayName": "Alexandre Henrion",
      "photoUrl": "https://lh3.googleusercontent.com/a-/AOh14GiDjUZf_CZ2oR3e_h01vl8yYHqjy8t77tILUOsf=s64",
      "userId": "11837540766968305785"
     },
     "user_tz": -120
    },
    "id": "6C6QqtC1GaRO"
   },
   "outputs": [],
   "source": [
    "#input model (Baseline model): Transfer learning= VGG16 model\n",
    "from tensorflow.keras.applications.vgg16 import VGG16\n",
    "\n",
    "def load_model():\n",
    "    model = VGG16(weights=\"imagenet\", include_top=False, input_shape=X_train[0].shape)\n",
    "    return model\n",
    "\n",
    "model = load_model()"
   ]
  },
  {
   "cell_type": "code",
   "execution_count": 29,
   "metadata": {
    "colab": {},
    "colab_type": "code",
    "executionInfo": {
     "elapsed": 745,
     "status": "ok",
     "timestamp": 1599576382103,
     "user": {
      "displayName": "Alexandre Henrion",
      "photoUrl": "https://lh3.googleusercontent.com/a-/AOh14GiDjUZf_CZ2oR3e_h01vl8yYHqjy8t77tILUOsf=s64",
      "userId": "11837540766968305785"
     },
     "user_tz": -120
    },
    "id": "cZl2-ReODW46"
   },
   "outputs": [],
   "source": [
    "from tensorflow.keras import layers\n",
    "from tensorflow.keras import models\n",
    "\n",
    "# model de classification adapté au Data Set\n",
    "def update_model(model):\n",
    "    # Set the first layers to be untrainable\n",
    "    model.trainable = False\n",
    "    \n",
    "    # Add layers to the mdoel\n",
    "    flatten_layer = layers.Flatten()\n",
    "    dense_layer = layers.Dense(500, activation='relu')\n",
    "    prediction_layer = layers.Dense(5, activation='softmax')\n",
    "\n",
    "    model = models.Sequential([\n",
    "        model,\n",
    "        flatten_layer,\n",
    "        dense_layer,\n",
    "        prediction_layer\n",
    "    ])\n",
    "    \n",
    "    return model    "
   ]
  },
  {
   "cell_type": "code",
   "execution_count": 30,
   "metadata": {
    "colab": {
     "base_uri": "https://localhost:8080/",
     "height": 289
    },
    "colab_type": "code",
    "executionInfo": {
     "elapsed": 645,
     "status": "ok",
     "timestamp": 1599576382690,
     "user": {
      "displayName": "Alexandre Henrion",
      "photoUrl": "https://lh3.googleusercontent.com/a-/AOh14GiDjUZf_CZ2oR3e_h01vl8yYHqjy8t77tILUOsf=s64",
      "userId": "11837540766968305785"
     },
     "user_tz": -120
    },
    "id": "ngMsl_KKEPgW",
    "outputId": "ac520d96-dd2a-4828-c547-68dd087d103a"
   },
   "outputs": [
    {
     "name": "stdout",
     "output_type": "stream",
     "text": [
      "Model: \"sequential_1\"\n",
      "_________________________________________________________________\n",
      "Layer (type)                 Output Shape              Param #   \n",
      "=================================================================\n",
      "vgg16 (Functional)           (None, 15, 15, 512)       14714688  \n",
      "_________________________________________________________________\n",
      "flatten_1 (Flatten)          (None, 115200)            0         \n",
      "_________________________________________________________________\n",
      "dense_2 (Dense)              (None, 500)               57600500  \n",
      "_________________________________________________________________\n",
      "dense_3 (Dense)              (None, 5)                 2505      \n",
      "=================================================================\n",
      "Total params: 72,317,693\n",
      "Trainable params: 57,603,005\n",
      "Non-trainable params: 14,714,688\n",
      "_________________________________________________________________\n"
     ]
    }
   ],
   "source": [
    "model = update_model(model)\n",
    "model.summary()"
   ]
  },
  {
   "cell_type": "code",
   "execution_count": 33,
   "metadata": {
    "colab": {},
    "colab_type": "code",
    "executionInfo": {
     "elapsed": 1670,
     "status": "ok",
     "timestamp": 1599576403274,
     "user": {
      "displayName": "Alexandre Henrion",
      "photoUrl": "https://lh3.googleusercontent.com/a-/AOh14GiDjUZf_CZ2oR3e_h01vl8yYHqjy8t77tILUOsf=s64",
      "userId": "11837540766968305785"
     },
     "user_tz": -120
    },
    "id": "aY8SO07fGFyZ"
   },
   "outputs": [],
   "source": [
    "from tensorflow.keras import optimizers\n",
    "from tensorflow.keras.optimizers import Adam\n",
    "import tensorflow.keras.metrics as metrics\n",
    "\n",
    "#compile your model - we advise Adam \n",
    "def compile_model(model):\n",
    "    \n",
    "    opt = optimizers.Adam(learning_rate=1e-4)\n",
    "    model.compile(loss='categorical_crossentropy',\n",
    "                  optimizer=opt,\n",
    "                  metrics=['accuracy',metrics.Recall(name='recall')])\n",
    "\n",
    "    return model"
   ]
  },
  {
   "cell_type": "code",
   "execution_count": 34,
   "metadata": {
    "colab": {},
    "colab_type": "code",
    "executionInfo": {
     "elapsed": 1099,
     "status": "ok",
     "timestamp": 1599576406257,
     "user": {
      "displayName": "Alexandre Henrion",
      "photoUrl": "https://lh3.googleusercontent.com/a-/AOh14GiDjUZf_CZ2oR3e_h01vl8yYHqjy8t77tILUOsf=s64",
      "userId": "11837540766968305785"
     },
     "user_tz": -120
    },
    "id": "AwuHUS1gGM3c"
   },
   "outputs": [],
   "source": [
    "# Data augmentation\n",
    "def build_model():\n",
    "    \n",
    "    model = load_model()\n",
    "    model = update_model(model)\n",
    "    model = compile_model(model)\n",
    "    \n",
    "    return model\n",
    "\n",
    "model = build_model()"
   ]
  },
  {
   "cell_type": "code",
   "execution_count": 27,
   "metadata": {
    "colab": {},
    "colab_type": "code",
    "executionInfo": {
     "elapsed": 1357,
     "status": "ok",
     "timestamp": 1599576374878,
     "user": {
      "displayName": "Alexandre Henrion",
      "photoUrl": "https://lh3.googleusercontent.com/a-/AOh14GiDjUZf_CZ2oR3e_h01vl8yYHqjy8t77tILUOsf=s64",
      "userId": "11837540766968305785"
     },
     "user_tz": -120
    },
    "id": "5mORpYmgJmhz"
   },
   "outputs": [],
   "source": [
    "### Back to the data ###"
   ]
  },
  {
   "cell_type": "code",
   "execution_count": 35,
   "metadata": {
    "colab": {
     "base_uri": "https://localhost:8080/",
     "height": 479
    },
    "colab_type": "code",
    "executionInfo": {
     "elapsed": 350228,
     "status": "ok",
     "timestamp": 1599576760755,
     "user": {
      "displayName": "Alexandre Henrion",
      "photoUrl": "https://lh3.googleusercontent.com/a-/AOh14GiDjUZf_CZ2oR3e_h01vl8yYHqjy8t77tILUOsf=s64",
      "userId": "11837540766968305785"
     },
     "user_tz": -120
    },
    "id": "fD2DZDMXJ20p",
    "outputId": "b1471669-fe6d-4a0c-c622-3c600b6c1c52"
   },
   "outputs": [
    {
     "name": "stdout",
     "output_type": "stream",
     "text": [
      "Epoch 1/50\n",
      "161/161 [==============================] - 32s 202ms/step - loss: 5.2171 - accuracy: 0.6383 - recall: 0.6200 - val_loss: 1.3500 - val_accuracy: 0.7088 - val_recall: 0.6970\n",
      "Epoch 2/50\n",
      "161/161 [==============================] - 31s 191ms/step - loss: 0.3806 - accuracy: 0.8705 - recall: 0.8533 - val_loss: 1.1270 - val_accuracy: 0.7207 - val_recall: 0.6943\n",
      "Epoch 3/50\n",
      "161/161 [==============================] - 31s 190ms/step - loss: 0.1659 - accuracy: 0.9536 - recall: 0.9481 - val_loss: 1.0033 - val_accuracy: 0.7425 - val_recall: 0.7197\n",
      "Epoch 4/50\n",
      "161/161 [==============================] - 31s 190ms/step - loss: 0.0900 - accuracy: 0.9840 - recall: 0.9832 - val_loss: 1.0319 - val_accuracy: 0.7416 - val_recall: 0.7197\n",
      "Epoch 5/50\n",
      "161/161 [==============================] - 31s 190ms/step - loss: 0.0930 - accuracy: 0.9856 - recall: 0.9848 - val_loss: 1.0955 - val_accuracy: 0.7270 - val_recall: 0.7025\n",
      "Epoch 6/50\n",
      "161/161 [==============================] - 31s 191ms/step - loss: 0.0780 - accuracy: 0.9891 - recall: 0.9891 - val_loss: 1.3958 - val_accuracy: 0.7334 - val_recall: 0.7225\n",
      "Epoch 7/50\n",
      "161/161 [==============================] - 30s 189ms/step - loss: 0.0984 - accuracy: 0.9856 - recall: 0.9852 - val_loss: 1.1681 - val_accuracy: 0.7325 - val_recall: 0.7143\n",
      "Epoch 8/50\n",
      "161/161 [==============================] - 31s 190ms/step - loss: 0.1270 - accuracy: 0.9742 - recall: 0.9723 - val_loss: 1.4395 - val_accuracy: 0.7325 - val_recall: 0.7288\n",
      "Epoch 9/50\n",
      "161/161 [==============================] - 31s 190ms/step - loss: 0.1071 - accuracy: 0.9824 - recall: 0.9821 - val_loss: 1.4536 - val_accuracy: 0.7361 - val_recall: 0.7170\n",
      "Epoch 10/50\n",
      "161/161 [==============================] - 31s 190ms/step - loss: 0.1209 - accuracy: 0.9754 - recall: 0.9742 - val_loss: 1.5385 - val_accuracy: 0.7116 - val_recall: 0.7052\n",
      "Epoch 11/50\n",
      "161/161 [==============================] - ETA: 0s - loss: 0.2528 - accuracy: 0.9504 - recall: 0.9497Restoring model weights from the end of the best epoch.\n",
      "161/161 [==============================] - 31s 190ms/step - loss: 0.2528 - accuracy: 0.9504 - recall: 0.9497 - val_loss: 2.0332 - val_accuracy: 0.6479 - val_recall: 0.6379\n",
      "Epoch 00011: early stopping\n",
      "CPU times: user 58.8 s, sys: 15.8 s, total: 1min 14s\n",
      "Wall time: 5min 49s\n"
     ]
    }
   ],
   "source": [
    "%%time \n",
    "from tensorflow.keras.callbacks import EarlyStopping\n",
    "\n",
    "def fit_model(model, X_train, y_train, X_valid, y_valid, epochs, patience): \n",
    "\n",
    "  es = EarlyStopping(monitor='recall', mode='max', patience=patience, verbose=1, restore_best_weights=True)\n",
    "\n",
    "  history = model.fit(X_train, y_train,\n",
    "                      validation_data=(X_valid, y_valid),\n",
    "                      epochs=epochs,\n",
    "                      batch_size=16,\n",
    "                      callbacks=[es])"
   ]
  },
  {
   "cell_type": "code",
   "execution_count": 38,
   "metadata": {
    "colab": {
     "base_uri": "https://localhost:8080/",
     "height": 265
    },
    "colab_type": "code",
    "executionInfo": {
     "elapsed": 1017,
     "status": "ok",
     "timestamp": 1599577020781,
     "user": {
      "displayName": "Alexandre Henrion",
      "photoUrl": "https://lh3.googleusercontent.com/a-/AOh14GiDjUZf_CZ2oR3e_h01vl8yYHqjy8t77tILUOsf=s64",
      "userId": "11837540766968305785"
     },
     "user_tz": -120
    },
    "id": "Xrrkf_eQJnfi",
    "outputId": "0c8b0ca1-75e8-4b9c-9386-cbccd5d8e191"
   },
   "outputs": [
    {
     "data": {
      "image/png": "[encoded data removed]",
      "text/plain": [
       "<Figure size 432x288 with 1 Axes>"
      ]
     },
     "metadata": {
      "needs_background": "light",
      "tags": []
     },
     "output_type": "display_data"
    }
   ],
   "source": [
    "import matplotlib.pyplot as plt\n",
    "\n",
    "def plot_recall(history):\n",
    "  %matplotlib inline\n",
    "  plt.plot(history.history['recall'], label=\"Recall\")\n",
    "  plt.plot(history.history['val_recall'], label = \"Validation Recall\")\n",
    "  plt.legend()\n",
    "  plt.show()\n",
    "\n",
    "def plot_accuracy(history)\n",
    "  %matplotlib inline\n",
    "  plt.plot(history.history['accuracy'], label=\"Accuracy\")\n",
    "  plt.plot(history.history['val_accuracy'], label = \"Validation Accuracy\")\n",
    "  plt.legend()\n",
    "  plt.show()"
   ]
  },
  {
   "cell_type": "code",
   "execution_count": 37,
   "metadata": {
    "colab": {
     "base_uri": "https://localhost:8080/",
     "height": 282
    },
    "colab_type": "code",
    "executionInfo": {
     "elapsed": 1245,
     "status": "ok",
     "timestamp": 1599576879396,
     "user": {
      "displayName": "Alexandre Henrion",
      "photoUrl": "https://lh3.googleusercontent.com/a-/AOh14GiDjUZf_CZ2oR3e_h01vl8yYHqjy8t77tILUOsf=s64",
      "userId": "11837540766968305785"
     },
     "user_tz": -120
    },
    "id": "KR0jgMoMSzHu",
    "outputId": "d8028023-92ae-4ce3-c806-e3530a87a21e"
   },
   "outputs": [
    {
     "data": {
      "text/plain": [
       "<function matplotlib.pyplot.show>"
      ]
     },
     "execution_count": 37,
     "metadata": {
      "tags": []
     },
     "output_type": "execute_result"
    },
    {
     "data": {
      "image/png": "[encoded data removed]",
      "text/plain": [
       "<Figure size 432x288 with 1 Axes>"
      ]
     },
     "metadata": {
      "needs_background": "light",
      "tags": []
     },
     "output_type": "display_data"
    }
   ],
   "source": [
    "def plot_losses(history):\n",
    "  plt.plot(history.history['loss'], label=\"Loss\")\n",
    "  plt.plot(history.history['val_loss'], label=\"Validation Loss\")\n",
    "  plt.legend()\n",
    "  plt.show"
   ]
  },
  {
   "cell_type": "code",
   "execution_count": null,
   "metadata": {
    "colab": {
     "base_uri": "https://localhost:8080/",
     "height": 71
    },
    "colab_type": "code",
    "executionInfo": {
     "elapsed": 5063,
     "status": "ok",
     "timestamp": 1599566747642,
     "user": {
      "displayName": "Alexandre Henrion",
      "photoUrl": "https://lh3.googleusercontent.com/a-/AOh14GiDjUZf_CZ2oR3e_h01vl8yYHqjy8t77tILUOsf=s64",
      "userId": "11837540766968305785"
     },
     "user_tz": -120
    },
    "id": "EiXS7rnIQQOF",
    "outputId": "95bd263c-8e63-4846-fe40-58c4f6012db8"
   },
   "outputs": [
    {
     "name": "stdout",
     "output_type": "stream",
     "text": [
      "18/18 [==============================] - 4s 233ms/step - loss: 2.0987 - accuracy: 0.7636\n",
      "Chance level: 20.0000%\n"
     ]
    }
   ],
   "source": [
    "model.evaluate(X_valid, y_valid)\n",
    "print(f'Chance level: {1./5*100:.4f}%')"
   ]
  }
 ],
 "metadata": {
  "accelerator": "GPU",
  "colab": {
   "collapsed_sections": [],
   "name": "Fast_TF_model.ipynb",
   "provenance": [],
   "toc_visible": true
  },
  "kernelspec": {
   "display_name": "Python 3",
   "language": "python",
   "name": "python3"
  },
  "language_info": {
   "codemirror_mode": {
    "name": "ipython",
    "version": 3
   },
   "file_extension": ".py",
   "mimetype": "text/x-python",
   "name": "python",
   "nbconvert_exporter": "python",
   "pygments_lexer": "ipython3",
   "version": "3.7.7"
  }
 },
 "nbformat": 4,
 "nbformat_minor": 1
}
